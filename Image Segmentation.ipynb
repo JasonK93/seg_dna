{
 "cells": [
  {
   "cell_type": "code",
   "execution_count": 2,
   "metadata": {},
   "outputs": [],
   "source": [
    "# import the necessary packages\n",
    "from __future__ import print_function\n",
    "from skimage.feature import peak_local_max\n",
    "from skimage.morphology import watershed\n",
    "from scipy import ndimage\n",
    "import argparse\n",
    "import cv2\n",
    "import matplotlib.pyplot as plt\n",
    "import numpy as np"
   ]
  },
  {
   "cell_type": "code",
   "execution_count": 41,
   "metadata": {},
   "outputs": [],
   "source": [
    "# construct the argument parse and parse the arguments\n",
    "# ap = argparse.ArgumentParser()\n",
    "# ap.add_argument(\"-i\", \"--image\", required=True, help=\"path to input image\")\n",
    "# args = vars(ap.parse_args())\n",
    " \n",
    "# load the image and perform pyramid mean shift filtering\n",
    "# to aid the thresholding step\n",
    "image = \"C:/Python27/Scripts/OpenCV_DNA/g4000gy-001.jpg\"\n",
    "image = cv2.imread(image)\n",
    "\n",
    "# cv2.imshow(\"Input\",image)\n",
    "# cv2.waitKey()"
   ]
  },
  {
   "cell_type": "code",
   "execution_count": 4,
   "metadata": {},
   "outputs": [
    {
     "data": {
      "text/plain": [
       "-1"
      ]
     },
     "execution_count": 4,
     "metadata": {},
     "output_type": "execute_result"
    }
   ],
   "source": [
    "# convert the mean shift image to grayscale, then apply\n",
    "# Otsu's thresholding\n",
    "shifted = cv2.pyrMeanShiftFiltering(image, 6, 51)\n",
    "gray = cv2.cvtColor(shifted, cv2.COLOR_BGR2GRAY)\n",
    "thresh = cv2.threshold(gray, 0, 255, cv2.THRESH_BINARY | cv2.THRESH_OTSU)[1]\n",
    "cv2.imshow(\"Thresh\", thresh)\n",
    "cv2.waitKey()"
   ]
  },
  {
   "cell_type": "code",
   "execution_count": null,
   "metadata": {},
   "outputs": [],
   "source": []
  },
  {
   "cell_type": "code",
   "execution_count": 30,
   "metadata": {},
   "outputs": [
    {
     "name": "stdout",
     "output_type": "stream",
     "text": [
      "[INFO] 105 unique contours found\n"
     ]
    },
    {
     "data": {
      "text/plain": [
       "-1"
      ]
     },
     "execution_count": 30,
     "metadata": {},
     "output_type": "execute_result"
    }
   ],
   "source": [
    "# Watershed OpenCVPython\n",
    "\n",
    "# import the necessary packages\n",
    "from __future__ import print_function\n",
    "from skimage.feature import peak_local_max\n",
    "from skimage.morphology import watershed\n",
    "from scipy import ndimage\n",
    "import argparse\n",
    "import cv2\n",
    "\n",
    "# construct the argument parse and parse the arguments\n",
    "\n",
    "\n",
    "# load the image and perform pyramid mean shift filtering\n",
    "# to aid the thresholding step\n",
    "image = \"C:/Python27/Scripts/OpenCV_DNA/g5000gy.jpg\"\n",
    "image = cv2.imread(image)\n",
    "shifted = cv2.pyrMeanShiftFiltering(image, 6, 51)\n",
    "# cv2.imshow(\"Input\",image)\n",
    "# cv2.waitKey()\n",
    "\n",
    "# convert the mean shift image to grayscale, then apply\n",
    "# Otsu's thresholding\n",
    "gray = cv2.cvtColor(shifted, cv2.COLOR_BGR2GRAY)\n",
    "thresh = cv2.threshold(gray, 0, 255, cv2.THRESH_BINARY | cv2.THRESH_OTSU)[1]\n",
    "# cv2.imshow(\"Thresh\", thresh)\n",
    "# cv2.waitKey()\n",
    "\n",
    "# find contours in the thresholded image\n",
    "cnts = cv2.findContours(thresh.copy(), cv2.RETR_EXTERNAL, cv2.CHAIN_APPROX_SIMPLE)[-2]\n",
    "print(\"[INFO] {} unique contours found\".format(len(cnts)))\n",
    "\n",
    "# loop over the contours\n",
    "for (i, c) in enumerate(cnts):\n",
    "    # draw the contour\n",
    "    ((x, y), _) = cv2.minEnclosingCircle(c)\n",
    "    cv2.putText(image, \"#{}\".format(i + 1), (int(x) - 10, int(y)),\n",
    "        cv2.FONT_HERSHEY_SIMPLEX, 0.6, (0, 0, 255), 2)\n",
    "    cv2.drawContours(image, [c], -1, (0, 255, 0), 2)\n",
    "\n",
    "# show the output image\n",
    "cv2.imshow(\"Image\", image)\n",
    "cv2.waitKey()"
   ]
  },
  {
   "cell_type": "code",
   "execution_count": 89,
   "metadata": {},
   "outputs": [
    {
     "name": "stdout",
     "output_type": "stream",
     "text": [
      "[INFO] 28 unique segments found\n"
     ]
    },
    {
     "data": {
      "text/plain": [
       "-1"
      ]
     },
     "execution_count": 89,
     "metadata": {},
     "output_type": "execute_result"
    }
   ],
   "source": [
    "# import the necessary packages\n",
    "from skimage.feature import peak_local_max\n",
    "from skimage.morphology import watershed\n",
    "from scipy import ndimage\n",
    "import numpy as np\n",
    "import argparse\n",
    "import cv2\n",
    "\n",
    "# construct the argument parse and parse the arguments\n",
    "\n",
    "\n",
    "# load the image and perform pyramid mean shift filtering\n",
    "# to aid the thresholding step\n",
    "image = cv2.imread(\"g5000gy.jpg\")\n",
    "shifted = cv2.pyrMeanShiftFiltering(image, 6, 51)\n",
    "# cv2.imshow(\"Input\", image)\n",
    "# cv2.waitKey()\n",
    "\n",
    "# convert the mean shift image to grayscale, then apply\n",
    "# Otsu's thresholding\n",
    "gray = cv2.cvtColor(shifted, cv2.COLOR_BGR2GRAY)\n",
    "thresh = cv2.threshold(gray, 0, 255, cv2.THRESH_BINARY | cv2.THRESH_OTSU)[1]\n",
    "cv2.imshow(\"Thresh\", thresh)\n",
    "cv2.waitKey()\n",
    "\n",
    "# compute the exact Euclidean distance from every binary\n",
    "# pixel to the nearest zero pixel, then find peaks in this\n",
    "# distance map\n",
    "D = ndimage.distance_transform_edt(thresh)\n",
    "localMax = peak_local_max(D, indices=False, min_distance=40, labels=thresh)\n",
    "\n",
    "# perform a connected component analysis on the local peaks,\n",
    "# using 8-connectivity, then appy the Watershed algorithm\n",
    "markers = ndimage.label(localMax, structure=np.ones((3, 3)))[0]\n",
    "labels = watershed(-D, markers, mask=thresh)\n",
    "print(\"[INFO] {} unique segments found\".format(len(np.unique(labels)) - 1))\n",
    "\n",
    "# loop over the unique labels returned by the Watershed\n",
    "# algorithm\n",
    "for label in np.unique(labels):\n",
    "    # if the label is zero, we are examining the 'background'\n",
    "    # so simply ignore it\n",
    "    if label == 0:\n",
    "        continue\n",
    "\n",
    "    # otherwise, allocate memory for the label region and draw\n",
    "    # it on the mask\n",
    "    mask = np.zeros(gray.shape, dtype=\"uint8\")\n",
    "    mask[labels == label] = 255\n",
    "    # cv2.imshow(\"mask\", mask)\n",
    "    # cv2.waitKey()\n",
    "\n",
    "    # detect contours in the mask and grab the largest one\n",
    "    cnts = cv2.findContours(mask.copy(), cv2.RETR_EXTERNAL,\n",
    "        cv2.CHAIN_APPROX_SIMPLE)[-2]\n",
    "    c = max(cnts, key=cv2.contourArea)\n",
    "\n",
    "    # draw a circle enclosing the object\n",
    "    ((x, y), r) = cv2.minEnclosingCircle(c)\n",
    "    cv2.circle(image, (int(x), int(y)), int(r), (0, 255, 0), 2)\n",
    "    cv2.putText(image, \"#{}\".format(label), (int(x) - 10, int(y)),\n",
    "        cv2.FONT_HERSHEY_SIMPLEX, 0.6, (0, 0, 255), 2)\n",
    "\n",
    "# show the output image\n",
    "cv2.imshow(\"Output\", image)\n",
    "cv2.waitKey()"
   ]
  },
  {
   "cell_type": "code",
   "execution_count": 75,
   "metadata": {},
   "outputs": [
    {
     "data": {
      "text/plain": [
       "-1"
      ]
     },
     "execution_count": 75,
     "metadata": {},
     "output_type": "execute_result"
    }
   ],
   "source": [
    "shifted = cv2.pyrMeanShiftFiltering(image, 10, 26)\n",
    "gray = cv2.cvtColor(shifted, cv2.COLOR_BGR2GRAY)\n",
    "thresh = cv2.threshold(gray, 0, 255, cv2.THRESH_BINARY | cv2.THRESH_OTSU)[1]\n",
    "cv2.imshow(\"Thresh\", thresh)\n",
    "cv2.waitKey()"
   ]
  },
  {
   "cell_type": "code",
   "execution_count": 81,
   "metadata": {},
   "outputs": [
    {
     "data": {
      "text/plain": [
       "-1"
      ]
     },
     "execution_count": 81,
     "metadata": {},
     "output_type": "execute_result"
    }
   ],
   "source": [
    "D = ndimage.distance_transform_edt(thresh)\n",
    "localMax = peak_local_max(D, indices=False, min_distance=30, labels=thresh)\n",
    "#localMax.shape\n",
    "#plt.imshow(localMax)\n",
    "#plt.show()\n",
    "cv2.imshow(\"local\", D)\n",
    "cv2.waitKey()"
   ]
  },
  {
   "cell_type": "code",
   "execution_count": 82,
   "metadata": {},
   "outputs": [
    {
     "data": {
      "text/plain": [
       "-1"
      ]
     },
     "execution_count": 82,
     "metadata": {},
     "output_type": "execute_result"
    }
   ],
   "source": [
    "markers = ndimage.label(localMax, structure=np.ones((3, 3)))[0]\n",
    "markers.shape\n",
    "cv2.imshow(\"markers\",markers)\n",
    "cv2.waitKey()"
   ]
  },
  {
   "cell_type": "code",
   "execution_count": 83,
   "metadata": {},
   "outputs": [
    {
     "name": "stdout",
     "output_type": "stream",
     "text": [
      "[INFO] 111 unique segments found\n"
     ]
    }
   ],
   "source": [
    "labels = watershed(-D, markers, mask=thresh)\n",
    "print(\"[INFO] {} unique segments found\".format(len(np.unique(labels)) - 1))"
   ]
  },
  {
   "cell_type": "code",
   "execution_count": 8,
   "metadata": {},
   "outputs": [
    {
     "name": "stdout",
     "output_type": "stream",
     "text": [
      "[INFO] 17 unique segments found\n"
     ]
    }
   ],
   "source": [
    "# import the necessary packages\n",
    "from skimage.feature import peak_local_max\n",
    "from skimage.morphology import watershed\n",
    "from scipy import ndimage\n",
    "import numpy as np\n",
    "import argparse\n",
    "import cv2\n",
    "\n",
    "# construct the argument parse and parse the arguments\n",
    "\n",
    "\n",
    "# load the image and perform pyramid mean shift filtering\n",
    "# to aid the thresholding step\n",
    "image = cv2.imread(\"dataset/g5000gy.tif\")[80:592, 48:560]\n",
    "dst = cv2.fastNlMeansDenoisingColored(image,None,15,15,21)\n",
    "shifted = cv2.pyrMeanShiftFiltering(dst, 2, 2)\n",
    "\n",
    "# cv2.imshow(\"Input\", image)\n",
    "# cv2.waitKey()\n",
    "\n",
    "# convert the mean shift image to grayscale, then apply\n",
    "# Otsu's thresholding\n",
    "gray = cv2.cvtColor(shifted, cv2.COLOR_BGR2GRAY)\n",
    "thresh = cv2.threshold(gray, 0, 255, cv2.THRESH_BINARY | cv2.THRESH_OTSU)[1]\n",
    "# cv2.imshow(\"Thresh\", thresh)\n",
    "# cv2.waitKey()\n",
    "\n",
    "# compute the exact Euclidean distance from every binary\n",
    "# pixel to the nearest zero pixel, then find peaks in this\n",
    "# distance map\n",
    "D = ndimage.distance_transform_edt(thresh)\n",
    "localMax = peak_local_max(D, indices=False, min_distance=58, labels=thresh)\n",
    "\n",
    "# perform a connected component analysis on the local peaks,\n",
    "# using 8-connectivity, then appy the Watershed algorithm\n",
    "markers = ndimage.label(localMax, structure=np.ones((3, 3)))[0]\n",
    "labels = watershed(-D, markers, mask=thresh)\n",
    "print(\"[INFO] {} unique segments found\".format(len(np.unique(labels)) - 1))\n",
    "\n",
    "# loop over the unique labels returned by the Watershed\n",
    "# algorithm\n",
    "for label in np.unique(labels):\n",
    "    # if the label is zero, we are examining the 'background'\n",
    "    # so simply ignore it\n",
    "    if label == 0:\n",
    "        continue\n",
    "\n",
    "    # otherwise, allocate memory for the label region and draw\n",
    "    # it on the mask\n",
    "    mask = np.zeros(gray.shape, dtype=\"uint8\")\n",
    "    mask[labels == label] = 1\n",
    "    length = np.count_nonzero(mask)\n",
    "    cv2.imwrite(\"segmentation_g5000gy/mask_{}_{}.jpg\".format(label, length), mask)\n",
    "    # cv2.imshow(\"mask\", mask)\n",
    "    # cv2.waitKey()\n",
    "\n",
    "    # detect contours in the mask and grab the largest one\n",
    "    cnts = cv2.findContours(mask.copy(), cv2.RETR_EXTERNAL,\n",
    "        cv2.CHAIN_APPROX_SIMPLE)[-2]\n",
    "    c = max(cnts, key=cv2.contourArea)\n",
    "\n",
    "    # draw the contour\n",
    "    ((x, y), _) = cv2.minEnclosingCircle(c)\n",
    "    cv2.putText(image, \"#{}\".format(label), (int(x) - 10, int(y)),\n",
    "        cv2.FONT_HERSHEY_SIMPLEX, 0.6, (0, 0, 255), 1)\n",
    "    cv2.drawContours(image, [c], -1, (0, 255, 0), 1)\n",
    "    cv2.imwrite(\"segmentation_g5000gy/Contour_{}.jpg\".format(len(np.unique(labels)) - 1), image)\n",
    "    \n",
    "# show the output image\n",
    "# cv2.imshow(\"Output\", image)\n",
    "# cv2.waitKey()"
   ]
  },
  {
   "cell_type": "code",
   "execution_count": 38,
   "metadata": {},
   "outputs": [
    {
     "data": {
      "text/plain": [
       "-1"
      ]
     },
     "execution_count": 38,
     "metadata": {},
     "output_type": "execute_result"
    }
   ],
   "source": [
    "import numpy as np\n",
    "import cv2\n",
    "from matplotlib import pyplot as plt\n",
    "import os\n",
    "\n",
    "img = cv2.imread('dataset/g5000gy.tif')[80:592, 48:560]\n",
    "dst = cv2.fastNlMeansDenoisingColored(img,None,15,15,7,21)\n",
    "cv2.imshow(\"denoised\", dst)\n",
    "cv2.waitKey()"
   ]
  },
  {
   "cell_type": "code",
   "execution_count": null,
   "metadata": {},
   "outputs": [],
   "source": [
    "os.mkdir(\"g5000gy_tuning\")\n",
    "for i in range(15,25):\n",
    "    for j in range(12,20):\n",
    "        shifted = cv2.pyrMeanShiftFiltering(dst, i, j)\n",
    "        cv2.imwrite(\"g5000gy_tuning/shifted_{}{}.jpg\".format(i,j), shifted)\n",
    "   # cv2.waitKey()"
   ]
  },
  {
   "cell_type": "code",
   "execution_count": 48,
   "metadata": {},
   "outputs": [
    {
     "data": {
      "text/plain": [
       "-1"
      ]
     },
     "execution_count": 48,
     "metadata": {},
     "output_type": "execute_result"
    }
   ],
   "source": [
    "# convert the mean shift image to grayscale, then apply\n",
    "# Otsu's thresholding\n",
    "img = cv2.imread('dataset/g5000gy.tif')[80:592, 48:560]\n",
    "dst = cv2.fastNlMeansDenoising(img,15,15,7,21)\n",
    "shifted = cv2.pyrMeanShiftFiltering(dst, 2, 2)\n",
    "gray = cv2.cvtColor(shifted, cv2.COLOR_BGR2GRAY)\n",
    "\n",
    "thresh = cv2.threshold(gray, 0, 255, cv2.THRESH_BINARY | cv2.THRESH_OTSU)[1]\n",
    "cv2.imshow(\"Thresh\", thresh)\n",
    "cv2.waitKey()"
   ]
  },
  {
   "cell_type": "code",
   "execution_count": 33,
   "metadata": {
    "scrolled": true
   },
   "outputs": [
    {
     "data": {
      "text/plain": [
       "36710"
      ]
     },
     "execution_count": 33,
     "metadata": {},
     "output_type": "execute_result"
    }
   ],
   "source": [
    "np.unique(labels)\n",
    "np.count_nonzero(labels)"
   ]
  },
  {
   "cell_type": "code",
   "execution_count": null,
   "metadata": {},
   "outputs": [],
   "source": []
  }
 ],
 "metadata": {
  "kernelspec": {
   "display_name": "Python 2",
   "language": "python",
   "name": "python2"
  },
  "language_info": {
   "codemirror_mode": {
    "name": "ipython",
    "version": 2
   },
   "file_extension": ".py",
   "mimetype": "text/x-python",
   "name": "python",
   "nbconvert_exporter": "python",
   "pygments_lexer": "ipython2",
   "version": "2.7.14"
  }
 },
 "nbformat": 4,
 "nbformat_minor": 2
}
