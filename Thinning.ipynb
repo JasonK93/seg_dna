{
 "cells": [
  {
   "cell_type": "code",
   "execution_count": 118,
   "metadata": {},
   "outputs": [
    {
     "data": {
      "image/png": "[encoded data removed]",
      "text/plain": [
       "<matplotlib.figure.Figure at 0xc8017f0>"
      ]
     },
     "metadata": {},
     "output_type": "display_data"
    }
   ],
   "source": [
    "import matplotlib\n",
    "import matplotlib.pyplot as plt\n",
    "import skimage.io as io\n",
    "import skimage\n",
    "import numpy as np\n",
    "\n",
    "\"load image data\"\n",
    "Img_Original =  io.imread( 'segmentation_g5000gy/mask_2_508.jpg') # Gray image, rgb images need pre-conversion\n",
    "# cv2.dilate(Img_Original, np.ones((2,2)))\n",
    "plt.imshow(Img_Original)\n",
    "plt.show()"
   ]
  },
  {
   "cell_type": "code",
   "execution_count": 98,
   "metadata": {},
   "outputs": [],
   "source": [
    "\"Convert gray images to binary images using Otsu's method\"\n",
    "Img_Original[Img_Original == 255] = 1"
   ]
  },
  {
   "cell_type": "code",
   "execution_count": 78,
   "metadata": {},
   "outputs": [],
   "source": [
    "def neighbours(x,y,image):\n",
    "\n",
    "    \"Return 8-neighbours of image point P1(x,y), in a clockwise order\"\n",
    "\n",
    "    img = image\n",
    "\n",
    "    x_1, y_1, x1, y1 = x-1, y-1, x+1, y+1\n",
    "\n",
    "    return [ img[x_1][y], img[x_1][y1], img[x][y1], img[x1][y1],     # P2,P3,P4,P5\n",
    "\n",
    "                img[x1][y], img[x1][y_1], img[x][y_1], img[x_1][y_1] ]    # P6,P7,P8,P9\n",
    "\n",
    "def transitions(neighbours):\n",
    "\n",
    "    \"No. of 0,1 patterns (transitions from 0 to 1) in the ordered sequence\"\n",
    "\n",
    "    n = neighbours + neighbours[0:1]      # P2, P3, ... , P8, P9, P2\n",
    "\n",
    "    return sum( (n1, n2) == (0, 1) for n1, n2 in zip(n, n[1:]) )  # (P2,P3), (P3,P4), ... , (P8,P9), (P9,P2)\n",
    "\n",
    "\n",
    "def zhangSuen(image):\n",
    "\n",
    "    \"the Zhang-Suen Thinning Algorithm\"\n",
    "\n",
    "    Image_Thinned = image.copy()  # deepcopy to protect the original image\n",
    "\n",
    "    changing1 = changing2 = 1        #  the points to be removed (set as 0)\n",
    "\n",
    "    while changing1 or changing2:   #  iterates until no further changes occur in the image\n",
    "\n",
    "        # Step 1\n",
    "\n",
    "        changing1 = []\n",
    "\n",
    "        rows, columns = Image_Thinned.shape               # x for rows, y for columns\n",
    "\n",
    "        for x in range(1, rows - 1):                     # No. of  rows\n",
    "\n",
    "            for y in range(1, columns - 1):            # No. of columns\n",
    "\n",
    "                P2,P3,P4,P5,P6,P7,P8,P9 = n = neighbours(x, y, Image_Thinned)\n",
    "\n",
    "                if (Image_Thinned[x][y] == 1     and    # Condition 0: Point P1 in the object regions \n",
    "\n",
    "                    2 <= sum(n) <= 6   and    # Condition 1: 2<= N(P1) <= 6\n",
    "\n",
    "                    transitions(n) == 1 and    # Condition 2: S(P1)=1  \n",
    "\n",
    "                    P2 * P4 * P6 == 0  and    # Condition 3   \n",
    "\n",
    "                    P4 * P6 * P8 == 0):         # Condition 4\n",
    "\n",
    "                    changing1.append((x,y))\n",
    "\n",
    "        for x, y in changing1: \n",
    "\n",
    "            Image_Thinned[x][y] = 0\n",
    "\n",
    "        # Step 2\n",
    "\n",
    "        changing2 = []\n",
    "\n",
    "        for x in range(1, rows - 1):\n",
    "\n",
    "            for y in range(1, columns - 1):\n",
    "\n",
    "                P2,P3,P4,P5,P6,P7,P8,P9 = n = neighbours(x, y, Image_Thinned)\n",
    "\n",
    "                if (Image_Thinned[x][y] == 1   and        # Condition 0\n",
    "\n",
    "                    2 <= sum(n) <= 6  and       # Condition 1\n",
    "\n",
    "                    transitions(n) == 1 and      # Condition 2\n",
    "\n",
    "                    P2 * P4 * P8 == 0 and       # Condition 3\n",
    "\n",
    "                    P2 * P6 * P8 == 0):            # Condition 4\n",
    "\n",
    "                    changing2.append((x,y))    \n",
    "\n",
    "        for x, y in changing2: \n",
    "\n",
    "            Image_Thinned[x][y] = 0\n",
    "\n",
    "    return Image_Thinned"
   ]
  },
  {
   "cell_type": "code",
   "execution_count": 113,
   "metadata": {},
   "outputs": [
    {
     "data": {
      "image/png": "[encoded data removed]",
      "text/plain": [
       "<matplotlib.figure.Figure at 0x17b98470>"
      ]
     },
     "metadata": {},
     "output_type": "display_data"
    }
   ],
   "source": [
    "\"Apply the algorithm on images\"\n",
    "\n",
    "BW_Skeleton = zhangSuen(Img_Original)\n",
    "\n",
    "# BW_Skeleton = BW_Original\n",
    "\n",
    "\"Display the results\"\n",
    "\n",
    "fig, ax = plt.subplots(1, 2)\n",
    "\n",
    "ax1, ax2 = ax.ravel()\n",
    "\n",
    "ax1.imshow(Img_Original, cmap=plt.cm.gray)\n",
    "\n",
    "ax1.set_title('Original binary image')\n",
    "\n",
    "ax1.axis('off')\n",
    "\n",
    "ax2.imshow(BW_Skeleton, cmap=plt.cm.gray)\n",
    "\n",
    "ax2.set_title('Skeleton of the image')\n",
    "\n",
    "ax2.axis('off')\n",
    "\n",
    "plt.show()"
   ]
  },
  {
   "cell_type": "code",
   "execution_count": 114,
   "metadata": {},
   "outputs": [
    {
     "data": {
      "text/plain": [
       "-1"
      ]
     },
     "execution_count": 114,
     "metadata": {},
     "output_type": "execute_result"
    }
   ],
   "source": [
    "import cv2\n",
    "\n",
    "BW_Skeleton[BW_Skeleton >= 1] = 255\n",
    "cv2.imshow(\"Original\", Img_Original)\n",
    "cv2.waitKey()\n",
    "cv2.imshow(\"Skeleton\", BW_Skeleton)\n",
    "cv2.waitKey()"
   ]
  },
  {
   "cell_type": "code",
   "execution_count": 35,
   "metadata": {},
   "outputs": [
    {
     "data": {
      "text/plain": [
       "array([[  0,   0,   0,   0,   0,   0,   0,   0,   0,   0],\n",
       "       [  0,   0,   0,   0,   0,   0,   0,   0,   0,   0],\n",
       "       [255, 255,   0,   0,   0,   0,   0,   0,   0,   0],\n",
       "       [  0,   0, 255, 255, 255,   0,   0,   0,   0,   0],\n",
       "       [  0,   0,   0,   0,   0,   0, 255, 255, 255,   0],\n",
       "       [  0,   0,   0,   0, 255,   0,   0,   0, 255, 255],\n",
       "       [  0,   0,   0,   0,   0, 255,   0,   0,   0,   0],\n",
       "       [  0,   0,   0,   0,   0,   0,   0,   0,   0,   0],\n",
       "       [  0,   0,   0,   0,   0,   0,   0,   0,   0,   0],\n",
       "       [  0,   0,   0,   0,   0,   0,   0,   0,   0,   0]], dtype=uint8)"
      ]
     },
     "execution_count": 35,
     "metadata": {},
     "output_type": "execute_result"
    }
   ],
   "source": [
    "BW_Skeleton[330:340,275:285]"
   ]
  },
  {
   "cell_type": "code",
   "execution_count": 115,
   "metadata": {},
   "outputs": [],
   "source": [
    "import numpy as np\n",
    "# Find row and column locations that are non-zero\n",
    "(rows,cols) = np.nonzero(BW_Skeleton)\n",
    "\n",
    "# Initialize empty list of co-ordinates\n",
    "skel_coords = []\n",
    "\n",
    "# For each non-zero pixel...\n",
    "for (r,c) in zip(rows,cols):\n",
    "\n",
    "    # Extract an 8-connected neighbourhood\n",
    "    (col_neigh,row_neigh) = np.meshgrid(np.array([c-1,c,c+1]), np.array([r-1,r,r+1]))\n",
    "\n",
    "    # Cast to int to index into image\n",
    "    col_neigh = col_neigh.astype('int')\n",
    "    row_neigh = row_neigh.astype('int')\n",
    "\n",
    "    # Convert into a single 1D array and check for non-zero locations\n",
    "    pix_neighbourhood = BW_Skeleton[row_neigh,col_neigh].ravel() != 0\n",
    "\n",
    "    # If the number of non-zero locations equals 2, add this to \n",
    "    # our list of co-ordinates\n",
    "    if np.sum(pix_neighbourhood) == 2:\n",
    "        skel_coords.append((r,c))"
   ]
  },
  {
   "cell_type": "code",
   "execution_count": 116,
   "metadata": {},
   "outputs": [
    {
     "name": "stdout",
     "output_type": "stream",
     "text": [
      "(333,279)\n",
      "(334,281)\n",
      "(335,279)\n",
      "(336,280)\n",
      "(339,238)\n",
      "(410,350)\n",
      "\n"
     ]
    }
   ],
   "source": [
    "# To show the co-ordinates of the end points, you can do:\n",
    "print \"\".join([\"(\" + str(r) + \",\" + str(c) + \")\\n\" for (r,c) in skel_coords])"
   ]
  },
  {
   "cell_type": "code",
   "execution_count": 117,
   "metadata": {},
   "outputs": [
    {
     "data": {
      "text/plain": [
       "-1"
      ]
     },
     "execution_count": 117,
     "metadata": {},
     "output_type": "execute_result"
    }
   ],
   "source": [
    "matrix = np.zeros((512,512))\n",
    "for (r,c) in skel_coords:\n",
    "    matrix[r,c] = 255\n",
    "\n",
    "cv2.imshow(\"show\", matrix)\n",
    "cv2.waitKey()"
   ]
  },
  {
   "cell_type": "code",
   "execution_count": null,
   "metadata": {},
   "outputs": [],
   "source": []
  }
 ],
 "metadata": {
  "kernelspec": {
   "display_name": "Python 2",
   "language": "python",
   "name": "python2"
  },
  "language_info": {
   "codemirror_mode": {
    "name": "ipython",
    "version": 2
   },
   "file_extension": ".py",
   "mimetype": "text/x-python",
   "name": "python",
   "nbconvert_exporter": "python",
   "pygments_lexer": "ipython2",
   "version": "2.7.14"
  }
 },
 "nbformat": 4,
 "nbformat_minor": 2
}
